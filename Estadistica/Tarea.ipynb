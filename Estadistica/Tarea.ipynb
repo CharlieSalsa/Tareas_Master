{
 "cells": [
  {
   "cell_type": "markdown",
   "metadata": {},
   "source": [
    "# PARTE 1\n",
    "\n",
    "**El fichero Excel adjunto contiene, dos variables: la primera es dicotómica con valores 1 (predinástico temprano) y 2 (predinástico tardío) y la segunda contiene la altura de cráneos (mm.) encontrados en un yacimiento arqueológico. La idea es analizar si existen diferencias en la longitud de la altura de los cráneos egipcios a medida que pasa el tiempo. Creo que mayoritariamente tenemos una idea de que las cabezas egipcias son más alargadas y cuando ya llegamos a los romanos son más redondeadas. El cine se ha encargado de hacer muy gráfico todo esto.**"
   ]
  },
  {
   "cell_type": "code",
   "execution_count": 1,
   "metadata": {},
   "outputs": [],
   "source": [
    "import pandas as pd  # Import the Pandas library for data manipulation\n",
    "import numpy as np  # Import the NumPy library for numerical operations\n",
    "import matplotlib.pyplot as plt  # Import Matplotlib for plotting and visualization\n",
    "import seaborn as sns  # Import Seaborn for enhanced data visualization\n",
    "from scipy.stats import kstest, norm  # Import specific functions from SciPy for statistical analysis\n",
    "from pingouin import ttest  # Import statistical test function from Pingouin\n",
    "\n",
    "# Set the Seaborn style\n",
    "sns.set_theme(style='darkgrid', palette=\"pastel\")\n",
    "\n",
    "# Specify the path to the Excel file containing data\n",
    "data_location = '.\\\\Datos.xlsx'\n",
    "\n",
    "# Load data from the Excel file into a Pandas DataFrame\n",
    "data_frame = pd.read_excel(data_location)\n",
    "\n",
    "# Select columns relevant to historical period and skull height\n",
    "df = data_frame[['Época histórica','Altura del cráneo']]\n",
    "\n",
    "# Create separate DataFrames for each historical period\n",
    "df_tem = df[df['Época histórica'] == 1]  # DataFrame for the early historical period\n",
    "df_tar = df[df['Época histórica'] == 2]  # DataFrame for the late historical period\n",
    "\n",
    "# Extract skull height data for each historical period\n",
    "a_tem = df_tem['Altura del cráneo']  # Skull height data for the early historical period\n",
    "a_tar = df_tar['Altura del cráneo']  # Skull height data for the late historical period"
   ]
  },
  {
   "cell_type": "markdown",
   "metadata": {},
   "source": [
    "1. Obtener con Python las diferentes medidas de centralización y dispersión, asimetría y curtosis estudiadas. Así mismo, obtener el diagrama de caja y bigotes. Se debe hacer por separado para la submuestra de los cráneos del predinástico temprano y para la submuestra de los del predinástico tardío. Comentar los resultados obtenidos. Estos comentarios son obligatorios."
   ]
  },
  {
   "cell_type": "code",
   "execution_count": 2,
   "metadata": {},
   "outputs": [
    {
     "name": "stdout",
     "output_type": "stream",
     "text": [
      "Predinástico Temprano\n",
      "Count:\t 30\n",
      "Mean:\t 134.4\n",
      "Median:\t 134.0\n",
      "Std:\t 1.051982255870633\n",
      "Min:\t 132\n",
      "Max:\t 137\n",
      "IQR:\t 5 \n",
      "\n",
      "Skew:\t -0.1737311042975376\n",
      "Kurt: \t 1.0183245892347403\n"
     ]
    }
   ],
   "source": [
    "# Calculating descriptive statistics for the early predynastic period\n",
    "\n",
    "# Calculate the number of data points in the early predynastic period\n",
    "tem_len = len(a_tem)\n",
    "\n",
    "# Calculate the mean (average) of the data for the early predynastic period\n",
    "tem_mean = np.mean(a_tem)\n",
    "\n",
    "# Calculate the median of the data for the early predynastic period\n",
    "tem_median = np.median(a_tem)\n",
    "\n",
    "# Calculate the standard deviation of the data for the early predynastic period\n",
    "tem_std = np.std(a_tem)\n",
    "\n",
    "# Calculate the minimum and maximum values in the data for the early predynastic period\n",
    "tem_max = a_tem.max()\n",
    "tem_min = a_tem.min()\n",
    "\n",
    "# Calculate the range of the data for the early predynastic period\n",
    "tem_range = tem_max - tem_min  # Note: This might be an error, consider using np.ptp(a_tem) instead\n",
    "\n",
    "# Calculate the skewness of the data for the early predynastic period\n",
    "tem_skew = a_tem.skew()\n",
    "\n",
    "# Calculate the kurtosis of the data for the early predynastic period\n",
    "tem_kurt = a_tem.kurtosis()\n",
    "\n",
    "# Display the descriptive statistics for the early predynastic period\n",
    "print('Predinástico Temprano')\n",
    "print('Count:\\t', tem_len)\n",
    "print('Mean:\\t', tem_mean)\n",
    "print('Median:\\t', tem_median)\n",
    "print('Std:\\t', tem_std)\n",
    "print('Min:\\t', tem_min)\n",
    "print('Max:\\t', tem_max)\n",
    "print('IQR:\\t', tem_range, '\\n')\n",
    "\n",
    "print('Skew:\\t', tem_skew)\n",
    "print('Kurt: \\t', tem_kurt)"
   ]
  },
  {
   "cell_type": "markdown",
   "metadata": {},
   "source": [
    "#### **Comentarios sobre los resultados:**\n",
    "\n",
    "- *Count (Número de datos):* Hay un total de 30 registros en este conjunto de datos.\n",
    "- *Mean (Media):* La altura promedio de los cráneos del periodo predinástico temprano es de aproximadamente 134.4 unidades.\n",
    "- *Median (Mediana):* La mediana de la altura de los cráneos del periodo predinástico temprano es 134.\n",
    "- *Std (Desviación estándar):* La dispersión de los datos con respecto a la media es de alrededor de 1.05 unidades.\n",
    "- *Min (Valor mínimo):* El valor más bajo en el conjunto de datos es 132 unidades (altura mínima).\n",
    "- *Max (Valor máximo):* El valor más alto en el conjunto de datos es 137 unidades (altura máxima).\n",
    "- *IQR (Rango intercuartílico):* El rango intercuartílico (IQR) de 5 unidades nos indica que el 50% central de los cráneos analizados presenta una variación de 5 unidades. Esto sugiere cierta uniformidad en el tamaño de esta parte de la población.\n",
    "- *Skew (Asimetría):* El valor de asimetría es aproximadamente -0.17, lo que indica una leve falta de simetría en la distribución, siendo ligeramente sesgada hacia la derecha (colas a la derecha).\n",
    "- *Kurt (Curtosis):* El valor de curtosis es alrededor de 1.02, lo que indica que la distribución tiene una forma leptocúrtica, es decir, colas más pesadas y más datos cerca de la media en comparación con una distribución normal estándar.\n",
    "\n",
    "En resumen, estos resultados indican que la altura promedio de los cráneos del periodo predinástico temprano es aproximadamente 134.4 unidades, con una dispersión de alrededor de 1.05 unidades alrededor de esa media. La distribución tiene una ligera asimetría hacia la derecha y una forma un poco más puntiaguda en comparación con una distribución normal estándar."
   ]
  },
  {
   "cell_type": "code",
   "execution_count": 3,
   "metadata": {},
   "outputs": [
    {
     "data": {
      "image/png": "[encoded data removed]",
      "text/plain": [
       "<Figure size 640x480 with 1 Axes>"
      ]
     },
     "metadata": {},
     "output_type": "display_data"
    }
   ],
   "source": [
    "# Generate a boxplot to visualize the distribution of data for the early predynastic period\n",
    "\n",
    "sns.boxplot(x=a_tem, width=0.3)  # Create a boxplot using Seaborn, 'x' parameter specifies the data, 'width' adjusts the width of boxes\n",
    "\n",
    "plt.title(\"Predinástico Temprano\")  # Set the title of the boxplot to indicate the early predynastic period\n",
    "\n",
    "plt.show()  # Display the boxplot\n"
   ]
  },
  {
   "cell_type": "markdown",
   "metadata": {},
   "source": [
    "#### **Comentarios sobre los resultados:**\n",
    "\n",
    "El boxplot refleja una caja reducida con valores atípicos que se distribuyen en ambos lados. No se llega a obsevar la mediana debido a que tiene el valor 134. La concentración de datos alrededor de la media es más evidente en el centro de la caja. Además, los bigotes son relativamente cortos, lo que indica una dispersión limitada de los datos hacia los valores extremos."
   ]
  },
  {
   "cell_type": "code",
   "execution_count": 4,
   "metadata": {},
   "outputs": [
    {
     "name": "stdout",
     "output_type": "stream",
     "text": [
      "Predinástico Tardío\n",
      "Count:\t 30\n",
      "Mean:\t 132.9\n",
      "Median:\t 133.0\n",
      "Std:\t 1.0115993936995675\n",
      "Min:\t 131\n",
      "Max:\t 135\n",
      "IQR:\t 4 \n",
      "\n",
      "Skew:\t -0.19537866713306773\n",
      "Kurt: \t -0.5040834924441051\n"
     ]
    }
   ],
   "source": [
    "# Calculating descriptive statistics for the late predynastic period\n",
    "\n",
    "# Calculate the number of data points in the late predynastic period\n",
    "tar_len = len(a_tar)\n",
    "\n",
    "# Calculate the mean (average) of the data for the late predynastic period\n",
    "tar_mean = np.mean(a_tar)\n",
    "\n",
    "# Calculate the median of the data for the late predynastic period\n",
    "tar_median = np.median(a_tar)\n",
    "\n",
    "# Calculate the standard deviation of the data for the late predynastic period\n",
    "tar_std = np.std(a_tar)\n",
    "\n",
    "# Calculate the minimum and maximum values in the data for the late predynastic period\n",
    "tar_min = a_tar.min()\n",
    "tar_max = a_tar.max()\n",
    "\n",
    "# Calculate the range of the data for the late predynastic period\n",
    "tar_range = tar_max - tar_min  # Note: This might be an error, consider using np.ptp(a_tar) instead\n",
    "\n",
    "# Calculate the skewness of the data for the late predynastic period\n",
    "tar_skew = a_tar.skew()\n",
    "\n",
    "# Calculate the kurtosis of the data for the late predynastic period\n",
    "tar_kurt = a_tar.kurtosis()\n",
    "\n",
    "# Display the descriptive statistics for the late predynastic period\n",
    "print('Predinástico Tardío')\n",
    "print('Count:\\t', tar_len)\n",
    "print('Mean:\\t', tar_mean)\n",
    "print('Median:\\t', tar_median)\n",
    "print('Std:\\t', tar_std)\n",
    "print('Min:\\t', tar_min)\n",
    "print('Max:\\t', tar_max)\n",
    "print('IQR:\\t', tar_range, '\\n')\n",
    "\n",
    "print('Skew:\\t', tar_skew)\n",
    "print('Kurt: \\t', tar_kurt)"
   ]
  },
  {
   "cell_type": "markdown",
   "metadata": {},
   "source": [
    "**Comentarios sobre los resultados:**\n",
    "\n",
    "- *Count (Número de datos):* Hay un total de 30 registros en este conjunto de datos.\n",
    "- *Mean (Media):* La altura promedio de los cráneos del periodo predinástico tardío es de aproximadamente 132.9 unidades.\n",
    "- *Median (Mediana):* La mediana de la altura de los cráneos del periodo predinástico temprano es 133.\n",
    "- *Std (Desviación estándar):* La dispersión de los datos con respecto a la media es de alrededor de 1.01 unidades.\n",
    "- *Min (Valor mínimo)*: El valor más bajo en el conjunto de datos es 131 unidades (altura mínima).\n",
    "- *Max (Valor máximo):* El valor más alto en el conjunto de datos es 135 unidades (altura máxima).\n",
    "- *IQR (Rango intercuartílico):* El rango intercuartílico (IQR) de 4 unidades nos indica que el 50% central de los cráneos analizados presenta una variación de 4 unidades. Esto sugiere cierta uniformidad en el tamaño de esta parte de la población.\n",
    "- *Skew (Asimetría):* El valor de asimetría es aproximadamente -0.20, lo que indica una leve falta de simetría en la distribución, siendo ligeramente sesgada hacia la izquierda (colas a la izquierda).\n",
    "- *Kurt (Curtosis):* El valor de curtosis es alrededor de -0.50, lo que indica que la distribución tiene una forma platicúrtica, es decir, colas menos pesadas y menos datos cerca de la media en comparación con una distribución normal estándar.\n",
    "\n",
    "En resumen, estos resultados indican que la altura promedio de los cráneos del periodo predinástico tardío es aproximadamente 132.9 unidades, con una dispersión de alrededor de 1.01 unidades alrededor de esa media. La distribución tiene una leve asimetría hacia la izquierda y una forma un poco menos puntiaguda en comparación con una distribución normal estándar."
   ]
  },
  {
   "cell_type": "code",
   "execution_count": 5,
   "metadata": {},
   "outputs": [
    {
     "data": {
      "image/png": "[encoded data removed]",
      "text/plain": [
       "<Figure size 640x480 with 1 Axes>"
      ]
     },
     "metadata": {},
     "output_type": "display_data"
    }
   ],
   "source": [
    "# Generate a boxplot to visualize the distribution of data for the late predynastic period\n",
    "\n",
    "sns.boxplot(x=a_tar, width=0.3)  # Create a boxplot for the late predynastic period\n",
    "\n",
    "plt.title(\"Predinástico Tardío\")  # Set title for the late predynastic period boxplot\n",
    "\n",
    "plt.show()  # Display the boxplot"
   ]
  },
  {
   "cell_type": "markdown",
   "metadata": {},
   "source": [
    "#### **Comentarios sobre los resultados:**\n",
    "\n",
    "El boxplot refleja una caja reducida sin valores atípicos. Se observa la mediana con un valor de 133, justo en la mitad del gráfico. La concentración de datos alrededor de la media es más evidente en el centro de la caja, ya que su valor es practicamente el mismo que el de la mediana. Además, los bigotes son relativamente cortos, lo que indica una dispersión limitada de los datos hacia los valores extremos."
   ]
  },
  {
   "cell_type": "markdown",
   "metadata": {},
   "source": [
    "2. Determinar si cada una de las dos sub-muestras sigue una distribución normal utilizando el test de Kolmogorov-Smirnov."
   ]
  },
  {
   "cell_type": "code",
   "execution_count": 6,
   "metadata": {},
   "outputs": [
    {
     "name": "stdout",
     "output_type": "stream",
     "text": [
      "stat = 0.219, p = 0.097\n",
      "Los datos parecen normales (no se puede rechazar H0)\n"
     ]
    }
   ],
   "source": [
    "# Create a target normal distribution based on early predynastic period statistics\n",
    "target_dist_tem = norm(loc=tem_mean, scale=tem_std)\n",
    "\n",
    "# Perform Kolmogorov-Smirnov test comparing the actual data with the target normal distribution\n",
    "stat, p = kstest(a_tem, target_dist_tem.cdf)\n",
    "print('stat = %.3f, p = %.3f' % (stat, p))\n",
    "\n",
    "alpha = 0.05  # Significance level\n",
    "\n",
    "# Compare the p-value to the significance level and make a decision based on the hypothesis test\n",
    "if p > alpha:\n",
    "    print('Los datos parecen normales (no se puede rechazar H0)')\n",
    "else:\n",
    "    print('Los datos no parecen normales (se rechaza H0)')"
   ]
  },
  {
   "cell_type": "markdown",
   "metadata": {},
   "source": [
    "#### **Comentarios sobre los resultados:**\n",
    "\n",
    "El valor del estadístico es 0.219 y el p-valor es 0.097. \n",
    "\n",
    "Esto significa que:\n",
    "\n",
    "- *Estadístico de prueba (stat):* Indica la máxima discrepancia entre la distribución teórica (normal) y la distribución de tus datos. Mientras más pequeño sea, más consistente es con la distribución normal.\n",
    "\n",
    "- *P-valor (p):* Se refiere a la probabilidad de observar esos datos si asumimos que siguen una distribución normal. Un p-valor = 0.097 sugiere que hay un 9.7% de probabilidad de observar estos datos si asumimos que provienen de una distribución normal. Dado que es mayor que el nivel de significancia común (0.05), no se tienen suficientes pruebas para rechazar la hipótesis nula de que los datos siguen una distribución normal."
   ]
  },
  {
   "cell_type": "code",
   "execution_count": 7,
   "metadata": {},
   "outputs": [
    {
     "name": "stdout",
     "output_type": "stream",
     "text": [
      "stat = 0.206, p = 0.136\n",
      "Los datos parecen normales (no se puede rechazar H0)\n"
     ]
    }
   ],
   "source": [
    "# Create a target normal distribution based on late predynastic period statistics\n",
    "target_dist_tar = norm(loc=tar_mean, scale=tar_std)\n",
    "\n",
    "# Perform Kolmogorov-Smirnov test comparing the actual data with the target normal distribution\n",
    "stat, p = kstest(a_tar, target_dist_tar.cdf)\n",
    "print('stat = %.3f, p = %.3f' % (stat, p))\n",
    "\n",
    "alpha = 0.05  # Significance level\n",
    "\n",
    "# Compare the p-value to the significance level and make a decision based on the hypothesis test\n",
    "if p > alpha:\n",
    "    print('Los datos parecen normales (no se puede rechazar H0)')\n",
    "else:\n",
    "    print('Los datos no parecen normales (se rechaza H0)')\n"
   ]
  },
  {
   "cell_type": "markdown",
   "metadata": {},
   "source": [
    "#### **Comentarios sobre el resultado:**\n",
    "\n",
    "el valor del estadístico es 0.206 y el valor p es 0.136. \n",
    "\n",
    "Esto implica:\n",
    "\n",
    "- *Estadístico de prueba (stat):* Representa la mayor discrepancia entre la distribución teórica (normal) y la distribución de tus datos. Mientras menor sea este valor, mayor será la coherencia con la distribución normal.\n",
    "\n",
    "- *P-valor (p):* Es la probabilidad de observar los datos si asumimos que siguen una distribución normal. Con un p-valor = 0.136, hay un 13.6% de probabilidad de observar estos datos si provienen de una distribución normal. Dado que este valor es mayor que el nivel de significancia común (0.05), no existen pruebas suficientes para rechazar la hipótesis nula de que los datos se ajustan a una distribución normal."
   ]
  },
  {
   "cell_type": "markdown",
   "metadata": {},
   "source": [
    "# PARTE 2"
   ]
  },
  {
   "cell_type": "markdown",
   "metadata": {},
   "source": [
    "1. Con los mismos datos del ejercicio anterior, obtener un intervalo de confianza (de nivel 0.9, de nivel 0.95 y de nivel 0.99) para la diferencia entre las medias de la altura de la cabeza en ambos periodos históricos. Interpretar los resultados obtenidos y discutirlos en función del test de normalidad del ejercicio anterior. La interpretación debe ser rigurosa desde el punto de vista estadístico y también marcada por el story telling, es decir, comprensible desde el punto de vista de las variables respondiendo a la pregunta ¿en qué época la cabeza era más alta?"
   ]
  },
  {
   "cell_type": "code",
   "execution_count": 8,
   "metadata": {},
   "outputs": [
    {
     "name": "stdout",
     "output_type": "stream",
     "text": [
      "90% Confidence Interval: (1.0617151779484324, 1.9382848220515676)\n",
      "95% Confidence Interval: (0.9777514229131087, 2.0222485770868914)\n",
      "99% Confidence Interval: (0.8136490266106517, 2.1863509733893483)\n"
     ]
    }
   ],
   "source": [
    "# Calculate the difference in means and the standard error of the difference\n",
    "difference_means = tem_mean - tar_mean\n",
    "standard_error_difference = np.sqrt((tem_std ** 2) / tem_len + (tar_std ** 2) / tar_len)\n",
    "\n",
    "# Calculate confidence intervals for different levels\n",
    "interval_90 = norm.interval(0.9, loc=difference_means, scale=standard_error_difference)\n",
    "interval_95 = norm.interval(0.95, loc=difference_means, scale=standard_error_difference)\n",
    "interval_99 = norm.interval(0.99, loc=difference_means, scale=standard_error_difference)\n",
    "\n",
    "# Print the calculated confidence intervals\n",
    "print(\"90% Confidence Interval:\", interval_90)\n",
    "print(\"95% Confidence Interval:\", interval_95)\n",
    "print(\"99% Confidence Interval:\", interval_99)"
   ]
  },
  {
   "cell_type": "markdown",
   "metadata": {},
   "source": [
    "#### **Comentario sobre el resultado:**\n",
    "\n",
    "Los resultados de los intervalos de confianza muestran que la diferencia entre las medias de las alturas de los cráneos entre los periodos predinástico temprano y predinástico tardío es consistente en todos los niveles de confianza (90%, 95% y 99%).\n",
    "\n",
    "**Específicamente:**\n",
    "\n",
    "- *Intervalo de Confianza al 90%:* La diferencia entre las medias de las alturas de los cráneos es de 1.06 a 1.94 unidades más alta en el periodo predinástico temprano en comparación con el tardío, con un nivel de confianza del 90%.\n",
    "\n",
    "- *Intervalo de Confianza al 95%:* La altura de la cabeza es entre 0.98 y 2.02 unidades más alta en el periodo predinástico temprano en comparación con el tardío, con un nivel de confianza del 95%.\n",
    "\n",
    "- *Intervalo de Confianza al 99%:* La diferencia en las alturas de los cráneos se sitúa entre 0.81 y 2.19 unidades más altas en el periodo predinástico temprano en comparación con el tardío, con un nivel de confianza del 99%.\n",
    "\n",
    "**Interpretación:**\n",
    "\n",
    "Independientemente del nivel de confianza seleccionado (90%, 95% o 99%), el resultado sugiere que hay evidencia estadísticamente significativa para afirmar que las alturas de los cráneos eran más altas en el periodo predinástico temprano en comparación con el periodo predinástico tardío. Además, la diferencia es consistente y sustancial en todos los intervalos de confianza considerados, lo que fortalece la confianza en esta conclusión."
   ]
  },
  {
   "cell_type": "markdown",
   "metadata": {},
   "source": [
    "2. Utilizar el test t para contrastar la hipótesis de que ambas medias son iguales. Explicar qué condiciones se deben cumplir para poder aplicar ese contraste. Determinar si se cumplen. Admitiremos de forma natural la independencia entre ambas muestras, así que esa condición no hace falta comprobarla."
   ]
  },
  {
   "cell_type": "code",
   "execution_count": 9,
   "metadata": {},
   "outputs": [
    {
     "data": {
      "text/html": [
       "<div>\n",
       "<style scoped>\n",
       "    .dataframe tbody tr th:only-of-type {\n",
       "        vertical-align: middle;\n",
       "    }\n",
       "\n",
       "    .dataframe tbody tr th {\n",
       "        vertical-align: top;\n",
       "    }\n",
       "\n",
       "    .dataframe thead th {\n",
       "        text-align: right;\n",
       "    }\n",
       "</style>\n",
       "<table border=\"1\" class=\"dataframe\">\n",
       "  <thead>\n",
       "    <tr style=\"text-align: right;\">\n",
       "      <th></th>\n",
       "      <th>T</th>\n",
       "      <th>dof</th>\n",
       "      <th>alternative</th>\n",
       "      <th>p-val</th>\n",
       "      <th>CI90%</th>\n",
       "      <th>cohen-d</th>\n",
       "      <th>BF10</th>\n",
       "      <th>power</th>\n",
       "    </tr>\n",
       "  </thead>\n",
       "  <tbody>\n",
       "    <tr>\n",
       "      <th>T-test</th>\n",
       "      <td>5.534781</td>\n",
       "      <td>58</td>\n",
       "      <td>two-sided</td>\n",
       "      <td>7.857638e-07</td>\n",
       "      <td>[1.0469867629210623, 1.953013237078938]</td>\n",
       "      <td>1.429074</td>\n",
       "      <td>1.663e+04</td>\n",
       "      <td>0.99975</td>\n",
       "    </tr>\n",
       "  </tbody>\n",
       "</table>\n",
       "</div>"
      ],
      "text/plain": [
       "               T  dof alternative         p-val  \\\n",
       "T-test  5.534781   58   two-sided  7.857638e-07   \n",
       "\n",
       "                                          CI90%   cohen-d       BF10    power  \n",
       "T-test  [1.0469867629210623, 1.953013237078938]  1.429074  1.663e+04  0.99975  "
      ]
     },
     "execution_count": 9,
     "metadata": {},
     "output_type": "execute_result"
    }
   ],
   "source": [
    "# Perform an independent samples t-test between early and late predynastic period data\n",
    "# with a confidence level of 0.9 (90% confidence interval)\n",
    "t_test_result_90 = ttest(a_tem, a_tar, confidence=0.9)\n",
    "t_test_result_90"
   ]
  },
  {
   "cell_type": "code",
   "execution_count": 10,
   "metadata": {},
   "outputs": [
    {
     "data": {
      "text/html": [
       "<div>\n",
       "<style scoped>\n",
       "    .dataframe tbody tr th:only-of-type {\n",
       "        vertical-align: middle;\n",
       "    }\n",
       "\n",
       "    .dataframe tbody tr th {\n",
       "        vertical-align: top;\n",
       "    }\n",
       "\n",
       "    .dataframe thead th {\n",
       "        text-align: right;\n",
       "    }\n",
       "</style>\n",
       "<table border=\"1\" class=\"dataframe\">\n",
       "  <thead>\n",
       "    <tr style=\"text-align: right;\">\n",
       "      <th></th>\n",
       "      <th>T</th>\n",
       "      <th>dof</th>\n",
       "      <th>alternative</th>\n",
       "      <th>p-val</th>\n",
       "      <th>CI95%</th>\n",
       "      <th>cohen-d</th>\n",
       "      <th>BF10</th>\n",
       "      <th>power</th>\n",
       "    </tr>\n",
       "  </thead>\n",
       "  <tbody>\n",
       "    <tr>\n",
       "      <th>T-test</th>\n",
       "      <td>5.534781</td>\n",
       "      <td>58</td>\n",
       "      <td>two-sided</td>\n",
       "      <td>7.857638e-07</td>\n",
       "      <td>[0.96, 2.04]</td>\n",
       "      <td>1.429074</td>\n",
       "      <td>1.663e+04</td>\n",
       "      <td>0.99975</td>\n",
       "    </tr>\n",
       "  </tbody>\n",
       "</table>\n",
       "</div>"
      ],
      "text/plain": [
       "               T  dof alternative         p-val         CI95%   cohen-d  \\\n",
       "T-test  5.534781   58   two-sided  7.857638e-07  [0.96, 2.04]  1.429074   \n",
       "\n",
       "             BF10    power  \n",
       "T-test  1.663e+04  0.99975  "
      ]
     },
     "execution_count": 10,
     "metadata": {},
     "output_type": "execute_result"
    }
   ],
   "source": [
    "# Perform an independent samples t-test between early and late predynastic period data\n",
    "# with a confidence level of 0.95 (95% confidence interval)\n",
    "t_test_result_95 = ttest(a_tem, a_tar, confidence=0.95)\n",
    "t_test_result_95"
   ]
  },
  {
   "cell_type": "code",
   "execution_count": 11,
   "metadata": {},
   "outputs": [
    {
     "data": {
      "text/html": [
       "<div>\n",
       "<style scoped>\n",
       "    .dataframe tbody tr th:only-of-type {\n",
       "        vertical-align: middle;\n",
       "    }\n",
       "\n",
       "    .dataframe tbody tr th {\n",
       "        vertical-align: top;\n",
       "    }\n",
       "\n",
       "    .dataframe thead th {\n",
       "        text-align: right;\n",
       "    }\n",
       "</style>\n",
       "<table border=\"1\" class=\"dataframe\">\n",
       "  <thead>\n",
       "    <tr style=\"text-align: right;\">\n",
       "      <th></th>\n",
       "      <th>T</th>\n",
       "      <th>dof</th>\n",
       "      <th>alternative</th>\n",
       "      <th>p-val</th>\n",
       "      <th>CI99%</th>\n",
       "      <th>cohen-d</th>\n",
       "      <th>BF10</th>\n",
       "      <th>power</th>\n",
       "    </tr>\n",
       "  </thead>\n",
       "  <tbody>\n",
       "    <tr>\n",
       "      <th>T-test</th>\n",
       "      <td>5.534781</td>\n",
       "      <td>58</td>\n",
       "      <td>two-sided</td>\n",
       "      <td>7.857638e-07</td>\n",
       "      <td>[0.7782134841732304, 2.22178651582677]</td>\n",
       "      <td>1.429074</td>\n",
       "      <td>1.663e+04</td>\n",
       "      <td>0.99975</td>\n",
       "    </tr>\n",
       "  </tbody>\n",
       "</table>\n",
       "</div>"
      ],
      "text/plain": [
       "               T  dof alternative         p-val  \\\n",
       "T-test  5.534781   58   two-sided  7.857638e-07   \n",
       "\n",
       "                                         CI99%   cohen-d       BF10    power  \n",
       "T-test  [0.7782134841732304, 2.22178651582677]  1.429074  1.663e+04  0.99975  "
      ]
     },
     "execution_count": 11,
     "metadata": {},
     "output_type": "execute_result"
    }
   ],
   "source": [
    "# Perform an independent samples t-test between early and late predynastic period data\n",
    "# with a confidence level of 0.99 (99% confidence interval)\n",
    "t_test_result_99 = ttest(a_tem, a_tar, confidence=0.99)\n",
    "t_test_result_99"
   ]
  },
  {
   "cell_type": "markdown",
   "metadata": {},
   "source": [
    "#### **Comentario sobre el resultado:**\n",
    "\n",
    "Los resultados del test t para igualdad de medias muestran que hay una diferencia significativa entre las medias de las alturas de los cráneos para los periodos predinástico temprano y predinástico tardío. Aquí está la interpretación según los diferentes niveles de confianza:\n",
    "\n",
    "**Resultados para 90%**\n",
    "\n",
    "- *P-valor:* El p-valor es 7.857638e-07 (muy cercano a cero), mucho menor que el nivel de significancia usual de 0.05, lo que indica una fuerte evidencia en contra de la hipótesis nula (que las medias son iguales).\n",
    "- *Intervalo de Confianza al 90% (CI90%):* El intervalo va desde 1.05 a 1.95, lo que indica que con un nivel de confianza del 90%, se estima que la diferencia real en las medias de las alturas de los cráneos está entre estos valores.\n",
    "- *Cohens´d:* El valor es 1.429074, lo que sugiere un tamaño del efecto considerablemente grande.\n",
    "- *Bayes Factor (BF10):* El valor de 1.663e+04 sugiere una fuerte evidencia a favor de la hipótesis alternativa sobre la nula.\n",
    "- *Power:* Un poder estadístico de 0.99975 indica una alta probabilidad de detectar una diferencia significativa si realmente existe.\n",
    "\n",
    "**Resultados para 95%**\n",
    "\n",
    "- *P-valor:* El p-valor sigue siendo el mismo, indicando la misma fuerte evidencia en contra de la hipótesis nula.\n",
    "- *Intervalo de Confianza al 95% (CI95%):* El intervalo más amplio, de 0.96 a 2.04, muestra que, con un nivel de confianza del 95%, se estima que la diferencia real en las medias podría variar en este rango.\n",
    "- *Cohen´s d, BF10, Power:* Estos valores son similares a los obtenidos para el 90%, lo que confirma la robustez de la evidencia.\n",
    "\n",
    "**Resultados para 99%**\n",
    "\n",
    "- *P-valor:* El p-valor sigue siendo consistente, confirmando la fuerte evidencia en contra de la hipótesis nula.\n",
    "- *Intervalo de Confianza al 99% (CI99%)*: Es el intervalo más amplio, variando entre 0.78 y 2.22. A un nivel de confianza del 99%, se estima que la diferencia real en las medias podría estar en este rango más amplio.\n",
    "- *Cohen´s d, BF10, Power:* Nuevamente, estos valores son consistentes con los obtenidos en los otros niveles de confianza.\n",
    "\n",
    "En resumen, independientemente del nivel de confianza elegido (90%, 95% o 99%), los resultados del test t indican de manera consistente una diferencia significativa entre las medias de las alturas de los cráneos para los periodos predinástico temprano y tardío. La evidencia es sólida en favor de esta diferencia, respaldada por diferentes métricas y análisis estadísticos, lo que sugiere que las cabezas eran significativamente más altas en el periodo predinástico temprano en comparación con el tardío."
   ]
  },
  {
   "cell_type": "markdown",
   "metadata": {},
   "source": []
  }
 ],
 "metadata": {
  "kernelspec": {
   "display_name": "base",
   "language": "python",
   "name": "python3"
  },
  "language_info": {
   "codemirror_mode": {
    "name": "ipython",
    "version": 3
   },
   "file_extension": ".py",
   "mimetype": "text/x-python",
   "name": "python",
   "nbconvert_exporter": "python",
   "pygments_lexer": "ipython3",
   "version": "3.11.5"
  }
 },
 "nbformat": 4,
 "nbformat_minor": 2
}
