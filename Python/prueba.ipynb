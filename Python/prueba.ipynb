{
 "cells": [
  {
   "cell_type": "code",
   "execution_count": 116,
   "metadata": {},
   "outputs": [
    {
     "data": {
      "text/plain": [
       "[3,\n",
       " 7,\n",
       " 11,\n",
       " 15,\n",
       " 19,\n",
       " 23,\n",
       " 27,\n",
       " 31,\n",
       " 35,\n",
       " 39,\n",
       " 43,\n",
       " 47,\n",
       " 51,\n",
       " 55,\n",
       " 59,\n",
       " 63,\n",
       " 67,\n",
       " 71,\n",
       " 75,\n",
       " 79,\n",
       " 83,\n",
       " 87,\n",
       " 91,\n",
       " 95,\n",
       " 99,\n",
       " 103,\n",
       " 107,\n",
       " 111,\n",
       " 115,\n",
       " 119,\n",
       " 123,\n",
       " 127,\n",
       " 131,\n",
       " 135,\n",
       " 139,\n",
       " 143,\n",
       " 147,\n",
       " 151,\n",
       " 155,\n",
       " 159,\n",
       " 163,\n",
       " 167,\n",
       " 171,\n",
       " 175,\n",
       " 179]"
      ]
     },
     "execution_count": 116,
     "metadata": {},
     "output_type": "execute_result"
    }
   ],
   "source": [
    "lista = list(range(3,180,4))\n",
    "lista"
   ]
  },
  {
   "cell_type": "code",
   "execution_count": 117,
   "metadata": {},
   "outputs": [
    {
     "data": {
      "text/plain": [
       "array([  3,   7,  11,  15,  19,  23,  27,  31,  35,  39,  43,  47,  51,\n",
       "        55,  59,  63,  67,  71,  75,  79,  83,  87,  91,  95,  99, 103,\n",
       "       107, 111, 115, 119, 123, 127, 131, 135, 139, 143, 147, 151, 155,\n",
       "       159, 163, 167, 171, 175, 179])"
      ]
     },
     "execution_count": 117,
     "metadata": {},
     "output_type": "execute_result"
    }
   ],
   "source": [
    "import numpy as np\n",
    "arr = np.array(lista)\n",
    "arr"
   ]
  },
  {
   "cell_type": "code",
   "execution_count": 118,
   "metadata": {},
   "outputs": [
    {
     "data": {
      "text/plain": [
       "array([ True, False, False,  True, False, False,  True, False, False,\n",
       "        True, False, False,  True, False, False,  True, False, False,\n",
       "        True, False, False,  True, False, False,  True, False, False,\n",
       "        True, False, False,  True, False, False,  True, False, False,\n",
       "        True, False, False,  True, False, False,  True, False, False])"
      ]
     },
     "execution_count": 118,
     "metadata": {},
     "output_type": "execute_result"
    }
   ],
   "source": [
    "mascara = arr%3 == 0\n",
    "mascara"
   ]
  },
  {
   "cell_type": "code",
   "execution_count": 119,
   "metadata": {},
   "outputs": [
    {
     "data": {
      "text/plain": [
       "15"
      ]
     },
     "execution_count": 119,
     "metadata": {},
     "output_type": "execute_result"
    }
   ],
   "source": [
    "n_multiplos = mascara.sum()\n",
    "n_multiplos"
   ]
  },
  {
   "cell_type": "code",
   "execution_count": 120,
   "metadata": {},
   "outputs": [
    {
     "data": {
      "text/plain": [
       "array([  6,   7,  11,  30,  19,  23,  54,  31,  35,  78,  43,  47, 102,\n",
       "        55,  59, 126,  67,  71, 150,  79,  83, 174,  91,  95, 198, 103,\n",
       "       107, 222, 115, 119, 246, 127, 131, 270, 139, 143, 294, 151, 155,\n",
       "       318, 163, 167, 342, 175, 179])"
      ]
     },
     "execution_count": 120,
     "metadata": {},
     "output_type": "execute_result"
    }
   ],
   "source": [
    "arr[mascara] = arr[mascara] * 2\n",
    "arr"
   ]
  },
  {
   "cell_type": "code",
   "execution_count": 121,
   "metadata": {},
   "outputs": [
    {
     "data": {
      "text/plain": [
       "array([[  6. ,   7. ,  11. ,  30. ,  19. ,  23. ,  54. ,  31. ,  35. ,\n",
       "         78. ,  43. ,  47. , 102. ,  55. ,  59. , 126. ,  67. ,  71. ,\n",
       "        150. ,  79. ,  83. , 174. ,  91. ,  95. , 198. , 103. , 107. ,\n",
       "        222. , 115. , 119. , 246. , 127. , 131. , 270. , 139. , 143. ,\n",
       "        294. , 151. , 155. , 318. , 163. , 167. , 342. , 175. , 179. ],\n",
       "       [ 12. ,  14. ,  22. ,  60. ,  38. ,  46. , 108. ,  62. ,  70. ,\n",
       "        156. ,  86. ,  94. , 204. , 110. , 118. , 252. , 134. , 142. ,\n",
       "        300. , 158. , 166. , 348. , 182. , 190. , 396. , 206. , 214. ,\n",
       "        444. , 230. , 238. , 492. , 254. , 262. , 540. , 278. , 286. ,\n",
       "        588. , 302. , 310. , 636. , 326. , 334. , 684. , 350. , 358. ],\n",
       "       [  3. ,   3.5,   5.5,  15. ,   9.5,  11.5,  27. ,  15.5,  17.5,\n",
       "         39. ,  21.5,  23.5,  51. ,  27.5,  29.5,  63. ,  33.5,  35.5,\n",
       "         75. ,  39.5,  41.5,  87. ,  45.5,  47.5,  99. ,  51.5,  53.5,\n",
       "        111. ,  57.5,  59.5, 123. ,  63.5,  65.5, 135. ,  69.5,  71.5,\n",
       "        147. ,  75.5,  77.5, 159. ,  81.5,  83.5, 171. ,  87.5,  89.5]])"
      ]
     },
     "execution_count": 121,
     "metadata": {},
     "output_type": "execute_result"
    }
   ],
   "source": [
    "matriz = np.array([arr,arr*2,arr/2])\n",
    "matriz"
   ]
  },
  {
   "cell_type": "code",
   "execution_count": 45,
   "metadata": {},
   "outputs": [
    {
     "data": {
      "text/plain": [
       "(3, 45)"
      ]
     },
     "execution_count": 45,
     "metadata": {},
     "output_type": "execute_result"
    }
   ],
   "source": [
    "matriz.shape"
   ]
  },
  {
   "cell_type": "code",
   "execution_count": 43,
   "metadata": {},
   "outputs": [
    {
     "name": "stdout",
     "output_type": "stream",
     "text": [
      "6.0  12.0  3.0\n"
     ]
    }
   ],
   "source": [
    "print(f'{matriz[0][0]}  {matriz[1][0]}  {matriz[2][0]}')"
   ]
  },
  {
   "cell_type": "code",
   "execution_count": 42,
   "metadata": {},
   "outputs": [
    {
     "data": {
      "text/plain": [
       "977.5735266464615"
      ]
     },
     "execution_count": 42,
     "metadata": {},
     "output_type": "execute_result"
    }
   ],
   "source": [
    "v0 = np.sqrt((matriz[0]**2).sum())\n",
    "v0"
   ]
  },
  {
   "cell_type": "code",
   "execution_count": 48,
   "metadata": {},
   "outputs": [
    {
     "data": {
      "text/plain": [
       "array([ 977.57352665, 1955.14705329,  488.78676332])"
      ]
     },
     "execution_count": 48,
     "metadata": {},
     "output_type": "execute_result"
    }
   ],
   "source": [
    "modulo = 0\n",
    "modulos_fila = 0\n",
    "\n",
    "def modulo(v):\n",
    "    v = np.sqrt((v**2).sum())\n",
    "    return v\n",
    "\n",
    "modulos_fila = np.apply_along_axis(modulo, 1, matriz)\n",
    "modulos_fila"
   ]
  },
  {
   "cell_type": "code",
   "execution_count": 89,
   "metadata": {},
   "outputs": [
    {
     "name": "stdout",
     "output_type": "stream",
     "text": [
      "{'edad': [45, 32], 'nombre': ['Paula', 'Elena']}\n"
     ]
    }
   ],
   "source": [
    "midict = {\"edad\": [22, 45, 32], \"nombre\": [\"Juan\", \"Paula\", \"Elena\"]}\n",
    "\n",
    "def quita_primer_valor(midict):\n",
    "  newdict = {}\n",
    "  for key, value in midict.items():\n",
    "    newdict[key] = value[1:]\n",
    "  return newdict\n",
    "\n",
    "print(quita_primer_valor(midict))  \n",
    "\n",
    "# def quita_primer_valor(midict):\n",
    "  \n",
    "#   return ndict\n",
    "\n",
    "# res = quita_primer_valor(midict)\n",
    "# res"
   ]
  },
  {
   "cell_type": "code",
   "execution_count": 100,
   "metadata": {},
   "outputs": [
    {
     "name": "stdout",
     "output_type": "stream",
     "text": [
      "[{'nombre': 'Juan', 'edad': 59}, {'nombre': 'Marisa', 'edad': 42}]\n"
     ]
    }
   ],
   "source": [
    "personas = [{\"nombre\": \"Pepe\", \"edad\": 15}, {\"nombre\": \"Juan\", \"edad\": 59}, {\"nombre\": \"Marisa\", \"edad\": 42}, {\"nombre\": \"Eva\"}]\n",
    "\n",
    "def quita_menores(personas, edad_minima = 18):\n",
    "  newlist = []\n",
    "  \n",
    "  for p in personas:\n",
    "    if (p.get('edad') != None):\n",
    "      if (p['edad'] >= edad_minima):\n",
    "        newlist.append(p)\n",
    "  return newlist\n",
    "\n",
    "res_18 = quita_menores(personas)\n",
    "print(res_18)"
   ]
  },
  {
   "cell_type": "code",
   "execution_count": 123,
   "metadata": {},
   "outputs": [
    {
     "name": "stdout",
     "output_type": "stream",
     "text": [
      "[None None None]\n"
     ]
    }
   ],
   "source": [
    "def reemplaza_maximos (m, repl):\n",
    "  copia_m = m.copy()\n",
    "  copia_m = np.apply_along_axis(lambda v: np.put(v, np.argmax(v), repl), 1, copia_m)\n",
    "  return copia_m\n",
    "\n",
    "print(reemplaza_maximos(matriz,-10))"
   ]
  },
  {
   "cell_type": "code",
   "execution_count": 21,
   "metadata": {},
   "outputs": [
    {
     "name": "stdout",
     "output_type": "stream",
     "text": [
      "{'Fisica': '101A', 'Quimica': '102B'}\n",
      "         cursos  aula\n",
      "nombre               \n",
      "Pedro    Fisica  101A\n",
      "Pablo   Quimica  102B\n",
      "Julio    Fisica  101A\n"
     ]
    }
   ],
   "source": [
    "import pandas as pd\n",
    "\n",
    "data1 = {\n",
    "  'nombre':['Pedro','Pablo','Julio'],\n",
    "  'cursos':['Fisica','Quimica','Fisica']\n",
    "}\n",
    "\n",
    "data2 = {\n",
    "  'cursos':['Fisica','Quimica'],\n",
    "  'aula':['101A','102B']\n",
    "}\n",
    "\n",
    "df1 = pd.DataFrame(data1)\n",
    "df1.set_index('nombre',inplace=True)\n",
    "df2 = pd.DataFrame(data2)\n",
    "df2.set_index('cursos',inplace=True)\n",
    "\n",
    "# Crear un diccionario para mapear los cursos a las aulas\n",
    "curso_aula_dict = dict(zip(df2.index, df2['aula']))\n",
    "\n",
    "# Agregar una nueva columna 'aula' a df1 utilizando el diccionario\n",
    "df1['aula'] = df1['cursos'].map(curso_aula_dict)\n",
    "\n",
    "print(curso_aula_dict)\n",
    "print(df1)\n"
   ]
  },
  {
   "cell_type": "code",
   "execution_count": null,
   "metadata": {},
   "outputs": [],
   "source": []
  }
 ],
 "metadata": {
  "kernelspec": {
   "display_name": "Python 3",
   "language": "python",
   "name": "python3"
  },
  "language_info": {
   "codemirror_mode": {
    "name": "ipython",
    "version": 3
   },
   "file_extension": ".py",
   "mimetype": "text/x-python",
   "name": "python",
   "nbconvert_exporter": "python",
   "pygments_lexer": "ipython3",
   "version": "3.11.5"
  },
  "orig_nbformat": 4
 },
 "nbformat": 4,
 "nbformat_minor": 2
}
